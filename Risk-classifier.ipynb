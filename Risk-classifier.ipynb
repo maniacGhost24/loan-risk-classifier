{
 "cells": [
  {
   "cell_type": "code",
   "execution_count": 11,
   "metadata": {},
   "outputs": [],
   "source": [
    "import pandas as pd\n",
    "from sklearn import preprocessing"
   ]
  },
  {
   "cell_type": "code",
   "execution_count": 12,
   "metadata": {},
   "outputs": [],
   "source": [
    "df_final=pd.read_csv('df1.csv')"
   ]
  },
  {
   "cell_type": "code",
   "execution_count": 13,
   "metadata": {},
   "outputs": [],
   "source": [
    "le = preprocessing.LabelEncoder()\n",
    "df_final['Zip Code']=le.fit_transform(df_final['Zip Code'])\n",
    "df_final['State']=le.fit_transform(df_final['State'])\n",
    "df_final['Employment Length']=le.fit_transform(df_final['Employment Length'])\n",
    "df_final['Policy Code']=le.fit_transform(df_final['Policy Code'])"
   ]
  },
  {
   "cell_type": "code",
   "execution_count": 14,
   "metadata": {},
   "outputs": [
    {
     "data": {
      "text/html": [
       "<div>\n",
       "<style scoped>\n",
       "    .dataframe tbody tr th:only-of-type {\n",
       "        vertical-align: middle;\n",
       "    }\n",
       "\n",
       "    .dataframe tbody tr th {\n",
       "        vertical-align: top;\n",
       "    }\n",
       "\n",
       "    .dataframe thead th {\n",
       "        text-align: right;\n",
       "    }\n",
       "</style>\n",
       "<table border=\"1\" class=\"dataframe\">\n",
       "  <thead>\n",
       "    <tr style=\"text-align: right;\">\n",
       "      <th></th>\n",
       "      <th>Amount Requested</th>\n",
       "      <th>Debt-To-Income Ratio</th>\n",
       "      <th>Zip Code</th>\n",
       "      <th>State</th>\n",
       "      <th>Employment Length</th>\n",
       "      <th>Policy Code</th>\n",
       "      <th>Risk_Score</th>\n",
       "      <th>Loan Granted</th>\n",
       "    </tr>\n",
       "  </thead>\n",
       "  <tbody>\n",
       "    <tr>\n",
       "      <th>0</th>\n",
       "      <td>3600.0</td>\n",
       "      <td>5.91</td>\n",
       "      <td>190</td>\n",
       "      <td>38</td>\n",
       "      <td>1</td>\n",
       "      <td>1</td>\n",
       "      <td>677.0</td>\n",
       "      <td>1</td>\n",
       "    </tr>\n",
       "    <tr>\n",
       "      <th>1</th>\n",
       "      <td>24700.0</td>\n",
       "      <td>16.06</td>\n",
       "      <td>577</td>\n",
       "      <td>41</td>\n",
       "      <td>1</td>\n",
       "      <td>1</td>\n",
       "      <td>717.0</td>\n",
       "      <td>1</td>\n",
       "    </tr>\n",
       "    <tr>\n",
       "      <th>2</th>\n",
       "      <td>20000.0</td>\n",
       "      <td>10.78</td>\n",
       "      <td>605</td>\n",
       "      <td>14</td>\n",
       "      <td>1</td>\n",
       "      <td>1</td>\n",
       "      <td>697.0</td>\n",
       "      <td>1</td>\n",
       "    </tr>\n",
       "    <tr>\n",
       "      <th>3</th>\n",
       "      <td>35000.0</td>\n",
       "      <td>17.06</td>\n",
       "      <td>76</td>\n",
       "      <td>31</td>\n",
       "      <td>1</td>\n",
       "      <td>1</td>\n",
       "      <td>787.0</td>\n",
       "      <td>1</td>\n",
       "    </tr>\n",
       "    <tr>\n",
       "      <th>4</th>\n",
       "      <td>10400.0</td>\n",
       "      <td>25.37</td>\n",
       "      <td>174</td>\n",
       "      <td>38</td>\n",
       "      <td>3</td>\n",
       "      <td>1</td>\n",
       "      <td>697.0</td>\n",
       "      <td>1</td>\n",
       "    </tr>\n",
       "    <tr>\n",
       "      <th>...</th>\n",
       "      <td>...</td>\n",
       "      <td>...</td>\n",
       "      <td>...</td>\n",
       "      <td>...</td>\n",
       "      <td>...</td>\n",
       "      <td>...</td>\n",
       "      <td>...</td>\n",
       "      <td>...</td>\n",
       "    </tr>\n",
       "    <tr>\n",
       "      <th>11105847</th>\n",
       "      <td>30000.0</td>\n",
       "      <td>55.15</td>\n",
       "      <td>726</td>\n",
       "      <td>2</td>\n",
       "      <td>10</td>\n",
       "      <td>0</td>\n",
       "      <td>681.0</td>\n",
       "      <td>0</td>\n",
       "    </tr>\n",
       "    <tr>\n",
       "      <th>11105848</th>\n",
       "      <td>1000.0</td>\n",
       "      <td>31.31</td>\n",
       "      <td>761</td>\n",
       "      <td>43</td>\n",
       "      <td>10</td>\n",
       "      <td>0</td>\n",
       "      <td>531.0</td>\n",
       "      <td>0</td>\n",
       "    </tr>\n",
       "    <tr>\n",
       "      <th>11105849</th>\n",
       "      <td>10000.0</td>\n",
       "      <td>41.26</td>\n",
       "      <td>441</td>\n",
       "      <td>35</td>\n",
       "      <td>10</td>\n",
       "      <td>0</td>\n",
       "      <td>590.0</td>\n",
       "      <td>0</td>\n",
       "    </tr>\n",
       "    <tr>\n",
       "      <th>11105850</th>\n",
       "      <td>1200.0</td>\n",
       "      <td>10.26</td>\n",
       "      <td>914</td>\n",
       "      <td>4</td>\n",
       "      <td>10</td>\n",
       "      <td>0</td>\n",
       "      <td>686.0</td>\n",
       "      <td>0</td>\n",
       "    </tr>\n",
       "    <tr>\n",
       "      <th>11105851</th>\n",
       "      <td>15000.0</td>\n",
       "      <td>10.58</td>\n",
       "      <td>113</td>\n",
       "      <td>34</td>\n",
       "      <td>10</td>\n",
       "      <td>0</td>\n",
       "      <td>684.0</td>\n",
       "      <td>0</td>\n",
       "    </tr>\n",
       "  </tbody>\n",
       "</table>\n",
       "<p>11105852 rows × 8 columns</p>\n",
       "</div>"
      ],
      "text/plain": [
       "          Amount Requested  Debt-To-Income Ratio  Zip Code  State  \\\n",
       "0                   3600.0                  5.91       190     38   \n",
       "1                  24700.0                 16.06       577     41   \n",
       "2                  20000.0                 10.78       605     14   \n",
       "3                  35000.0                 17.06        76     31   \n",
       "4                  10400.0                 25.37       174     38   \n",
       "...                    ...                   ...       ...    ...   \n",
       "11105847           30000.0                 55.15       726      2   \n",
       "11105848            1000.0                 31.31       761     43   \n",
       "11105849           10000.0                 41.26       441     35   \n",
       "11105850            1200.0                 10.26       914      4   \n",
       "11105851           15000.0                 10.58       113     34   \n",
       "\n",
       "          Employment Length  Policy Code  Risk_Score  Loan Granted  \n",
       "0                         1            1       677.0             1  \n",
       "1                         1            1       717.0             1  \n",
       "2                         1            1       697.0             1  \n",
       "3                         1            1       787.0             1  \n",
       "4                         3            1       697.0             1  \n",
       "...                     ...          ...         ...           ...  \n",
       "11105847                 10            0       681.0             0  \n",
       "11105848                 10            0       531.0             0  \n",
       "11105849                 10            0       590.0             0  \n",
       "11105850                 10            0       686.0             0  \n",
       "11105851                 10            0       684.0             0  \n",
       "\n",
       "[11105852 rows x 8 columns]"
      ]
     },
     "execution_count": 14,
     "metadata": {},
     "output_type": "execute_result"
    }
   ],
   "source": [
    "df_final"
   ]
  },
  {
   "cell_type": "code",
   "execution_count": 15,
   "metadata": {},
   "outputs": [],
   "source": [
    "x=df_final.drop(['Loan Granted','Policy Code'],axis=1)\n",
    "y=df_final.iloc[:,-1]"
   ]
  },
  {
   "cell_type": "code",
   "execution_count": 16,
   "metadata": {},
   "outputs": [],
   "source": [
    "from sklearn.model_selection import train_test_split\n",
    "X_train, X_test, y_train, y_test = train_test_split(x,y,test_size=1/3,random_state=0)"
   ]
  },
  {
   "cell_type": "code",
   "execution_count": 17,
   "metadata": {},
   "outputs": [],
   "source": [
    "from sklearn.tree import DecisionTreeClassifier\n",
    "from sklearn.metrics import classification_report, confusion_matrix, accuracy_score"
   ]
  },
  {
   "cell_type": "code",
   "execution_count": 22,
   "metadata": {},
   "outputs": [
    {
     "name": "stdout",
     "output_type": "stream",
     "text": [
      "[[2910554   88497]\n",
      " [  88922  613978]]\n",
      "Score on test data: 0.9520741900689663\n",
      "Score on train data: 0.9999835221999862\n"
     ]
    }
   ],
   "source": [
    "\n",
    "decision_tree = DecisionTreeClassifier(random_state=0)\n",
    "decision_tree = decision_tree.fit(X_train, y_train)\n",
    "\n",
    "print(confusion_matrix(y_test,decision_tree.predict(X_test)))\n",
    "\n",
    "\n",
    "print(\"Score on test data:\",accuracy_score(y_test,decision_tree.predict(X_test)))\n",
    "\n",
    "\n",
    "print(\"Score on train data:\",accuracy_score(y_train,decision_tree.predict(X_train)))\n",
    "\n",
    "\n"
   ]
  },
  {
   "cell_type": "code",
   "execution_count": 19,
   "metadata": {},
   "outputs": [],
   "source": [
    "from sklearn.ensemble import RandomForestClassifier"
   ]
  },
  {
   "cell_type": "code",
   "execution_count": 20,
   "metadata": {},
   "outputs": [
    {
     "name": "stdout",
     "output_type": "stream",
     "text": [
      "[[2913481   85570]\n",
      " [  90874  612026]]\n",
      "Score on test data: 0.9523375647057457\n",
      "Score on train data: 0.9956610711029227\n"
     ]
    }
   ],
   "source": [
    "random_forest = RandomForestClassifier(random_state=0, n_estimators=8)\n",
    "random_forest = random_forest.fit(X_train, y_train)\n",
    "\n",
    "\n",
    "print(confusion_matrix(y_test,random_forest.predict(X_test)))\n",
    "\n",
    "print(\"Score on test data:\",accuracy_score(y_test,random_forest.predict(X_test)))\n",
    "\n",
    "print(\"Score on train data:\",accuracy_score(y_train,random_forest.predict(X_train)))"
   ]
  }
 ],
 "metadata": {
  "kernelspec": {
   "display_name": "Python 3",
   "language": "python",
   "name": "python3"
  },
  "language_info": {
   "codemirror_mode": {
    "name": "ipython",
    "version": 3
   },
   "file_extension": ".py",
   "mimetype": "text/x-python",
   "name": "python",
   "nbconvert_exporter": "python",
   "pygments_lexer": "ipython3",
   "version": "3.8.10"
  }
 },
 "nbformat": 4,
 "nbformat_minor": 4
}
